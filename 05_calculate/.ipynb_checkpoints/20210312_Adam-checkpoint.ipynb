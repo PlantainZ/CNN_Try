{
 "cells": [
  {
   "cell_type": "code",
   "execution_count": 1,
   "metadata": {},
   "outputs": [],
   "source": [
    "import d2lzh as d2l\n",
    "from mxnet import nd"
   ]
  },
  {
   "cell_type": "code",
   "execution_count": 2,
   "metadata": {},
   "outputs": [],
   "source": [
    "data = np.genfromtxt('D:/plantainz/OuO_DeepLearning/DataSet/airfoil_self_noise.dat',delimiter='\\t')\n",
    "data = (data - data.mean(axis = 0)) / data.std(axis = 0)\n",
    "features,labels = nd.array(data[:1500,:-1]),nd.array(data[:1500,-1])"
   ]
  },
  {
   "cell_type": "code",
   "execution_count": 4,
   "metadata": {},
   "outputs": [],
   "source": [
    "def init_adam_states():\n",
    "    v_w,v_b = nd.zeros((features.shape[1],1),nd.zeros(1))\n",
    "    s_w,s_b = nd.zeros((features.shape[1],1),nd.zeros(1))\n",
    "    return ((v_w,s_w),(v_b,s_b))"
   ]
  },
  {
   "cell_type": "code",
   "execution_count": 5,
   "metadata": {},
   "outputs": [],
   "source": [
    "def adam(params,states,hyperparams):\n",
    "    beta1,beta2,eps = 0.9,0.999,1e-6 # 前边两个beta值都是论文里建议的！！\n",
    "    for p,(v,s) in zip(params,states):\n",
    "        v[:] = beta1 * v + (1-beta1)*p.grad             # 这是原始的，还没开始偏差修正的样子\n",
    "        s[:] = beta2 * v + (1-beta2) * p.grad.square()\n",
    "        \n",
    "        v_bias_corr = v / (1-beta1 ** hyperparams['t']) # 这里开始是偏差修正\n",
    "        s_bias_corr = v / (1-beta2 ** hyperparams['t'])\n",
    "        \n",
    "        p[:] -= hyperparams['lr'] * v_bias_corr / (s_bias_corr.sqrt() + eps)\n",
    "    hyperparams['t'] += 1"
   ]
  },
  {
   "cell_type": "code",
   "execution_count": null,
   "metadata": {},
   "outputs": [],
   "source": [
    "d2l.train_ch7(adam,init_adam_states(),{'lr':0.01,'t':1},\n",
    "             features,labels)"
   ]
  }
 ],
 "metadata": {
  "kernelspec": {
   "display_name": "jn_mxnet",
   "language": "python",
   "name": "mxnet"
  },
  "language_info": {
   "codemirror_mode": {
    "name": "ipython",
    "version": 3
   },
   "file_extension": ".py",
   "mimetype": "text/x-python",
   "name": "python",
   "nbconvert_exporter": "python",
   "pygments_lexer": "ipython3",
   "version": "3.6.12"
  },
  "varInspector": {
   "cols": {
    "lenName": 16,
    "lenType": 16,
    "lenVar": 40
   },
   "kernels_config": {
    "python": {
     "delete_cmd_postfix": "",
     "delete_cmd_prefix": "del ",
     "library": "var_list.py",
     "varRefreshCmd": "print(var_dic_list())"
    },
    "r": {
     "delete_cmd_postfix": ") ",
     "delete_cmd_prefix": "rm(",
     "library": "var_list.r",
     "varRefreshCmd": "cat(var_dic_list()) "
    }
   },
   "types_to_exclude": [
    "module",
    "function",
    "builtin_function_or_method",
    "instance",
    "_Feature"
   ],
   "window_display": false
  }
 },
 "nbformat": 4,
 "nbformat_minor": 4
}
