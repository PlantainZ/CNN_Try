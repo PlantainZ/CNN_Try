{
 "cells": [
  {
   "cell_type": "code",
   "execution_count": 1,
   "metadata": {},
   "outputs": [],
   "source": [
    "import d2lzh as d2l\n",
    "from mxnet import nd\n",
    "from mxnet.gluon import data as gdata\n",
    "from IPython import display\n",
    "from matplotlib import pyplot as plt\n",
    "import time\n",
    "import numpy as np"
   ]
  },
  {
   "cell_type": "code",
   "execution_count": 2,
   "metadata": {},
   "outputs": [],
   "source": [
    "data = np.genfromtxt('D:/plantainz/OuO_DeepLearning/DataSet/airfoil_self_noise.dat',delimiter='\\t')\n",
    "data = (data - data.mean(axis = 0)) / data.std(axis = 0)\n",
    "features,labels = np.array(data[:1500,:-1]),np.array(data[:1500,-1])"
   ]
  },
  {
   "cell_type": "markdown",
   "metadata": {},
   "source": [
    "# Momentum\n",
    "---"
   ]
  },
  {
   "cell_type": "code",
   "execution_count": 7,
   "metadata": {},
   "outputs": [],
   "source": [
    "def init_momentum_states():\n",
    "    v_w = nd.zeros((features.shape[1],1))\n",
    "    v_b = nd.zeros(1)\n",
    "    return (v_w,v_b)"
   ]
  },
  {
   "cell_type": "code",
   "execution_count": 9,
   "metadata": {},
   "outputs": [],
   "source": [
    "def sgd_momentum(params,states,hyperparams):\n",
    "    for p,v in zip(paramsms,states):\n",
    "        v[:] = hyperparams['momentum'] * v + hyperparams['lr'] * p.grad\n",
    "        p[:] -= v "
   ]
  },
  {
   "cell_type": "markdown",
   "metadata": {},
   "source": [
    "# Adagrad\n",
    "---"
   ]
  },
  {
   "cell_type": "code",
   "execution_count": null,
   "metadata": {},
   "outputs": [],
   "source": [
    "def f_2d(x1,x2): # 给Adagrad和下方RMSProp的示例函数\n",
    "    return 0.1*x1**2 + 2*x2**2"
   ]
  },
  {
   "cell_type": "code",
   "execution_count": null,
   "metadata": {},
   "outputs": [],
   "source": [
    "def init_ada_status():\n",
    "    s_w = nd.zeros((features.shape[1],1))\n",
    "    s_b = nd.zeros(1)\n",
    "    return (s_w,s_b)"
   ]
  },
  {
   "cell_type": "code",
   "execution_count": null,
   "metadata": {},
   "outputs": [],
   "source": [
    "def adagrad(params,states,hyperparams):\n",
    "    eps = 1e-6\n",
    "    for p,s in zip(params,states):\n",
    "        s[:] += p.grad.square()\n",
    "        p[:] -= hyperparams['lr']*p.grad / (s+eps).sqrt()"
   ]
  },
  {
   "cell_type": "markdown",
   "metadata": {},
   "source": [
    "# RMSProp\n",
    "---"
   ]
  },
  {
   "cell_type": "code",
   "execution_count": 11,
   "metadata": {},
   "outputs": [],
   "source": [
    "def init_rmsprop_states():\n",
    "    s_w = nd.zeros((features.shape[1],1))\n",
    "    s_b = nd.zeros(1)\n",
    "    return (s_w,s_b)"
   ]
  },
  {
   "cell_type": "code",
   "execution_count": 3,
   "metadata": {},
   "outputs": [],
   "source": [
    "def rms_prop(params,states,hyperparams):\n",
    "    gamma,eps = hyperparams['gamma'],1e-6\n",
    "    for p,s in zip(params,states):\n",
    "        s[:] = gamma*s + (1-gamma)*p.grad.square()\n",
    "        p[:] -= hyperparams['lr'] * p.grad / (s+eps).sqrt()"
   ]
  },
  {
   "cell_type": "markdown",
   "metadata": {},
   "source": [
    "# Adam\n",
    "---"
   ]
  },
  {
   "cell_type": "code",
   "execution_count": 4,
   "metadata": {},
   "outputs": [],
   "source": [
    "def init_adam_states():\n",
    "    v_w,v_b = nd.zeros((features.shape[1],1),nd.zeros(1))\n",
    "    s_w,s_b = nd.zeros((features.shape[1],1),nd.zeros(1))\n",
    "    return ((v_w,v_b),(s_w,s_b))"
   ]
  },
  {
   "cell_type": "code",
   "execution_count": null,
   "metadata": {},
   "outputs": [],
   "source": [
    "def adam(params,status,hyperparams):\n",
    "    beta1,beta2,eps = 0.9,0.999,1e-6\n",
    "    for p,(v,s) in zip(params,states):\n",
    "        v[:] = beta1 * v + (1-beta1)*p.grad\n",
    "        s[:] = beta2 * s + (1-beta2)*p.grad.square()\n",
    "        \n",
    "        v_bias_corr = v/(1-beta1 ** hyperparams['t'])\n",
    "        s_bias_corr = s/(1-beta2 ** hyperparams['t'])\n",
    "        \n",
    "        p[:] -= hyperparams['lr'] * v_bias_corr / (s_bias_corr.sqrt() + eps)\n",
    "    hyperparams['t'] += 1\n",
    "        \n",
    "        \n",
    "        "
   ]
  }
 ],
 "metadata": {
  "kernelspec": {
   "display_name": "jn_mxnet",
   "language": "python",
   "name": "mxnet"
  },
  "language_info": {
   "codemirror_mode": {
    "name": "ipython",
    "version": 3
   },
   "file_extension": ".py",
   "mimetype": "text/x-python",
   "name": "python",
   "nbconvert_exporter": "python",
   "pygments_lexer": "ipython3",
   "version": "3.6.12"
  },
  "varInspector": {
   "cols": {
    "lenName": 16,
    "lenType": 16,
    "lenVar": 40
   },
   "kernels_config": {
    "python": {
     "delete_cmd_postfix": "",
     "delete_cmd_prefix": "del ",
     "library": "var_list.py",
     "varRefreshCmd": "print(var_dic_list())"
    },
    "r": {
     "delete_cmd_postfix": ") ",
     "delete_cmd_prefix": "rm(",
     "library": "var_list.r",
     "varRefreshCmd": "cat(var_dic_list()) "
    }
   },
   "types_to_exclude": [
    "module",
    "function",
    "builtin_function_or_method",
    "instance",
    "_Feature"
   ],
   "window_display": false
  }
 },
 "nbformat": 4,
 "nbformat_minor": 4
}
