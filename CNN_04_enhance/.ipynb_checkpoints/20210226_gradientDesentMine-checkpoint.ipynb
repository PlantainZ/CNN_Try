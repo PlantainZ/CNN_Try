{
 "cells": [
  {
   "cell_type": "code",
   "execution_count": 1,
   "metadata": {},
   "outputs": [],
   "source": [
    "from mxnet import autograd,gluon,init,nd\n",
    "from mxnet.gluon import nn,data as gdata,loss as gloss\n",
    "import numpy as np\n",
    "import time\n",
    "from IPython import display\n",
    "from matplotlib import pyplot as plt"
   ]
  },
  {
   "cell_type": "code",
   "execution_count": 2,
   "metadata": {},
   "outputs": [
    {
     "name": "stdout",
     "output_type": "stream",
     "text": [
      "\n",
      "[[-0.6620227  -1.146403    1.7992992   1.3129352  -0.6448046 ]\n",
      " [-0.59856135 -1.146403    1.7992992   1.3129352  -0.6448046 ]\n",
      " [-0.51923466 -1.146403    1.7992992   1.3129352  -0.6448046 ]\n",
      " ...\n",
      " [-0.28125456  1.490443   -0.37373954 -0.72334486  3.1727724 ]\n",
      " [-0.12260117  1.490443   -0.37373954 -0.72334486  3.1727724 ]\n",
      " [ 0.08364823  1.490443   -0.37373954 -0.72334486  3.1727724 ]]\n",
      "<NDArray 1500x5 @cpu(0)>\n"
     ]
    }
   ],
   "source": [
    "data = np.genfromtxt('D:/plantainz/OuO_DeepLearning/DataSet/airfoil_self_noise.dat',delimiter='\\t')\n",
    "data = (data - data.mean(axis = 0)) / data.std(axis = 0)\n",
    "\n",
    "features = nd.array(data[:1500,:-1])\n",
    "labels = nd.array(data[:1500,-1])\n",
    "\n",
    "features.shape\n",
    "print(features)"
   ]
  },
  {
   "cell_type": "markdown",
   "metadata": {},
   "source": [
    "# 2. sgd\n",
    "---"
   ]
  },
  {
   "cell_type": "code",
   "execution_count": null,
   "metadata": {},
   "outputs": [],
   "source": [
    "def sgd(params,status,hyperparams):\n",
    "    for p in params:\n",
    "        p[:] -= hyperparams['lr'] * p.grad"
   ]
  },
  {
   "cell_type": "markdown",
   "metadata": {},
   "source": [
    "# 3. 手动实现原始训练函数\n",
    "---"
   ]
  },
  {
   "cell_type": "code",
   "execution_count": 3,
   "metadata": {},
   "outputs": [],
   "source": [
    "def linreg(X,w,b):\n",
    "    return nd.dot(X,w) + b"
   ]
  },
  {
   "cell_type": "code",
   "execution_count": 4,
   "metadata": {},
   "outputs": [],
   "source": [
    "def squared_loss(y_hat,y):\n",
    "    return (y_hat - y.reshape(y_hat.shape)) ** 2 / 2"
   ]
  },
  {
   "cell_type": "code",
   "execution_count": 5,
   "metadata": {},
   "outputs": [],
   "source": [
    "def set_figsize(figsize = (3.5,2.5)):\n",
    "    display.set_matplotlib_formats('sgd')\n",
    "    plt.rcParams['figure.figsize'] = figsize"
   ]
  },
  {
   "cell_type": "code",
   "execution_count": 6,
   "metadata": {},
   "outputs": [],
   "source": [
    "def train(trainer_fn,status,hyperparams,\n",
    "         features,labels,\n",
    "         batch_size = 10,num_epochs = 2):\n",
    "    # 初始化模型\n",
    "    net = linreg\n",
    "    loss = squared_loss\n",
    "    \n",
    "    # 网络参数\n",
    "    w = nd.random.normal(scale=0.01,shape=(features.shape[1],1))\n",
    "    b = nd.zeros(1)\n",
    "    w.attach_grad()\n",
    "    b.attach_grad()\n",
    "    \n",
    "    def eval_loss():\n",
    "        return loss(net(features,w,b),labels).mean().asscalar()\n",
    "    \n",
    "    ls = [eval_loss()]\n",
    "    print('ls = [eval_loss()].origin:',ls)\n",
    "    data_iter = gdata.DataLoader(gdata.ArrayDataset(features,labels),batch_size,shuffle=True)\n",
    "    \n",
    "    for _ in range(num_epochs):\n",
    "        start = time.time()\n",
    "        for batch_i,(X,y) in enumerate(data_iter):\n",
    "            with autograd.record():\n",
    "                l = loss(net(X,w,b),y).mean()\n",
    "            l.backward()\n",
    "            trainer_fn([W,b],status,hyperparams)\n",
    "            \n",
    "            if(batch_i + 1) * batch_size % 100 == 0:\n",
    "                ls.appendp(eval_loss())\n",
    "    \n",
    "    # 开始画图\n",
    "    set_figsize()\n",
    "    plt.plot(np.linspace(0,num_epochs,len(ls)),ls)\n",
    "    plt.xlabel('epoch')\n",
    "    plt.ylabel('loss')"
   ]
  },
  {
   "cell_type": "code",
   "execution_count": null,
   "metadata": {},
   "outputs": [],
   "source": []
  },
  {
   "cell_type": "code",
   "execution_count": null,
   "metadata": {},
   "outputs": [],
   "source": []
  },
  {
   "cell_type": "code",
   "execution_count": null,
   "metadata": {},
   "outputs": [],
   "source": []
  },
  {
   "cell_type": "code",
   "execution_count": null,
   "metadata": {},
   "outputs": [],
   "source": []
  },
  {
   "cell_type": "code",
   "execution_count": null,
   "metadata": {},
   "outputs": [],
   "source": []
  },
  {
   "cell_type": "code",
   "execution_count": null,
   "metadata": {},
   "outputs": [],
   "source": []
  },
  {
   "cell_type": "code",
   "execution_count": null,
   "metadata": {},
   "outputs": [],
   "source": []
  }
 ],
 "metadata": {
  "kernelspec": {
   "display_name": "jn_mxnet",
   "language": "python",
   "name": "mxnet"
  },
  "language_info": {
   "codemirror_mode": {
    "name": "ipython",
    "version": 3
   },
   "file_extension": ".py",
   "mimetype": "text/x-python",
   "name": "python",
   "nbconvert_exporter": "python",
   "pygments_lexer": "ipython3",
   "version": "3.6.12"
  },
  "varInspector": {
   "cols": {
    "lenName": 16,
    "lenType": 16,
    "lenVar": 40
   },
   "kernels_config": {
    "python": {
     "delete_cmd_postfix": "",
     "delete_cmd_prefix": "del ",
     "library": "var_list.py",
     "varRefreshCmd": "print(var_dic_list())"
    },
    "r": {
     "delete_cmd_postfix": ") ",
     "delete_cmd_prefix": "rm(",
     "library": "var_list.r",
     "varRefreshCmd": "cat(var_dic_list()) "
    }
   },
   "types_to_exclude": [
    "module",
    "function",
    "builtin_function_or_method",
    "instance",
    "_Feature"
   ],
   "window_display": false
  }
 },
 "nbformat": 4,
 "nbformat_minor": 4
}
