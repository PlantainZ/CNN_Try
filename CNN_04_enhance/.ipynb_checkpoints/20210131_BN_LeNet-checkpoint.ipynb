{
 "cells": [
  {
   "cell_type": "code",
   "execution_count": 20,
   "metadata": {},
   "outputs": [],
   "source": [
    "import mxnet as mx\n",
    "from mxnet import autograd,gluon,init,nd\n",
    "from mxnet.gluon import loss as gloss,nn,data as gdata\n",
    "import time"
   ]
  },
  {
   "cell_type": "markdown",
   "metadata": {},
   "source": [
    "# 1. BN层定义\n",
    "---\n",
    "- 注意共有情况：\n",
    "    - gamma & beta：各通道共用一组！！\n",
    "    - moving_mean & moving_var：这个Batch中所有数据共用！！"
   ]
  },
  {
   "cell_type": "code",
   "execution_count": 21,
   "metadata": {},
   "outputs": [],
   "source": [
    "def batch_norm(X,gamma,beta,moving_mean,moving_var,eps,momentum):\n",
    "    if not autograd.is_training(): # 如果不是训练，就直接用。\n",
    "        X_hat = (X-moving_mean) / nd.sqrt(moving_var + eps)\n",
    "    else: # 如果是训练，分情况讨论。\n",
    "        assert len(X.shape) in (2,4)\n",
    "        \n",
    "        if len(X.shape) == 2:# 如果要处理的并不是图片\n",
    "            mean = X.mean(axis=0)\n",
    "            var = (X-mean**2).mean(axis=0)\n",
    "        else: # 如果要处理的是图片\n",
    "            mean = X.mean(axis=(0,2,3),keepdims=True)\n",
    "            var = ((X-mean)**2).mean(axis=(0,2,3),keepdims=True)\n",
    "        X_hat = (X-mean)/nd.sqrt(var + eps) # 就在这里，对输入X进行标准化\n",
    "        \n",
    "        moving_mean = momentum * moving_mean + (1-momentum) * moving_mean\n",
    "        moving_var = momentum * moving_var + (1-momentum) + moving_var\n",
    "    \n",
    "    Y = gamma * X_hat + beta # 然后考虑放大缩小和偏移，计算出经过BN层后的Y\n",
    "    \n",
    "    return Y,moving_mean,moving_var"
   ]
  },
  {
   "cell_type": "code",
   "execution_count": 22,
   "metadata": {},
   "outputs": [],
   "source": [
    "class BatchNorm(nn.Block):\n",
    "    def __init__(self,num_features,num_dims,**kwargs):\n",
    "        super(BatchNorm,self).__init__(**kwargs)\n",
    "        \n",
    "        # 首先要得到channel的shape,这里就是代表着输入了有多少张图。\n",
    "        if num_dims == 2:\n",
    "            shape = (1,num_features)\n",
    "        else:\n",
    "            shape = (1,num_features,1,1)\n",
    "        \n",
    "        # 然后带着这个shape，去生成 gamme & beta,moving_mean & moving_var\n",
    "        self.gamma = self.params.get('gamma',shape = shape,init=init.One())\n",
    "        self.beta = self.params.get('beta',shape = shape,init=init.Zero())\n",
    "        \n",
    "        self.moving_mean = nd.zeros(shape)\n",
    "        self.moving_var = nd.zeros(shape)\n",
    "            \n",
    "        # 然后进行前向计算得到moving_mean & moving_var的值\n",
    "    def forward(self,X): # 这里应该是重写！！原函数的__init__中应该有调用这个函数的句子。\n",
    "        if self.moving_mean.context != X.context:\n",
    "            self.moving_mean = self.moving_mean.copyto(X.context)\n",
    "            self.moving_var = self.moving_var.copyto(X.context)\n",
    "        \n",
    "        Y,self.moving_mean,self.moving_var = batch_norm(X,self.gamma.data(),self.beta.data(),\n",
    "                                                       self.moving_mean,self.moving_var,\n",
    "                                                       eps=1e-5,momentum=0.9)\n",
    "        return Y \n",
    "            \n",
    "        "
   ]
  },
  {
   "cell_type": "markdown",
   "metadata": {},
   "source": [
    "# 2. 读取数据 + 生成iter \n",
    "---"
   ]
  },
  {
   "cell_type": "code",
   "execution_count": 23,
   "metadata": {},
   "outputs": [],
   "source": [
    "batch_size = 256\n",
    "mnist_train = gdata.vision.FashionMNIST(train=True)\n",
    "mnist_test = gdata.vision.FashionMNIST(train=False)\n",
    "\n",
    "transformer = gdata.vision.transforms.ToTensor()\n",
    "train_iter = gdata.DataLoader(mnist_train.transform_first(transformer),batch_size=batch_size,shuffle=True)\n",
    "test_iter = gdata.DataLoader(mnist_test.transform_first(transformer),batch_size=batch_size,shuffle=False)"
   ]
  },
  {
   "cell_type": "markdown",
   "metadata": {},
   "source": [
    "# 3. 定义网络\n",
    "---"
   ]
  },
  {
   "cell_type": "code",
   "execution_count": 24,
   "metadata": {},
   "outputs": [],
   "source": [
    "net = nn.Sequential()\n",
    "net.add(nn.Conv2D(6,kernel_size=5), # 注意，输入的不是一位线性数据，而是一张图像\n",
    "        BatchNorm(6,num_dims=4),# 所以这里的dims是4，（批次，channel,长宽）。注意前面的6和conv的输出通道数要对应。\n",
    "       nn.Activation('sigmoid'),\n",
    "       nn.MaxPool2D(pool_size=2,strides=2),\n",
    "       \n",
    "       nn.Conv2D(16,kernel_size=5),\n",
    "       BatchNorm(16,num_dims=4),\n",
    "       nn.Activation('sigmoid'),\n",
    "       nn.MaxPool2D(pool_size=2,strides=2),\n",
    "       \n",
    "       nn.Dense(120),\n",
    "       BatchNorm(120,num_dims=2), # 注意这里的num_features也是120，但是在全连层，dims=2！！只有行和列。行是批次。\n",
    "       nn.Activation('sigmoid'),\n",
    "       \n",
    "       nn.Dense(84),\n",
    "       BatchNorm(84,num_dims=2),\n",
    "       nn.Activation('sigmoid'),\n",
    "       \n",
    "       nn.Dense(10))\n"
   ]
  },
  {
   "cell_type": "code",
   "execution_count": 25,
   "metadata": {},
   "outputs": [
    {
     "name": "stdout",
     "output_type": "stream",
     "text": [
      "conv4 output shape:\t (1, 6, 24, 24)\n",
      "batchnorm8 output shape:\t (1, 6, 24, 24)\n",
      "sigmoid8 output shape:\t (1, 6, 24, 24)\n",
      "pool4 output shape:\t (1, 6, 12, 12)\n",
      "conv5 output shape:\t (1, 16, 8, 8)\n",
      "batchnorm9 output shape:\t (1, 16, 8, 8)\n",
      "sigmoid9 output shape:\t (1, 16, 8, 8)\n",
      "pool5 output shape:\t (1, 16, 4, 4)\n",
      "dense6 output shape:\t (1, 120)\n",
      "batchnorm10 output shape:\t (1, 120)\n",
      "sigmoid10 output shape:\t (1, 120)\n",
      "dense7 output shape:\t (1, 84)\n",
      "batchnorm11 output shape:\t (1, 84)\n",
      "sigmoid11 output shape:\t (1, 84)\n",
      "dense8 output shape:\t (1, 10)\n"
     ]
    }
   ],
   "source": [
    "# 看一下输出的样子！\n",
    "X = nd.random.normal(shape=(1,1,28,28))\n",
    "net.initialize()\n",
    "for layer in net:\n",
    "    X = layer(X) # 可以看到，BN层后，数据的形状是无变化的！只是规范化了数据的值。\n",
    "    print(layer.name,'output shape:\\t',X.shape)"
   ]
  },
  {
   "cell_type": "markdown",
   "metadata": {},
   "source": [
    "# 4. 准确率\n",
    "---"
   ]
  },
  {
   "cell_type": "code",
   "execution_count": 26,
   "metadata": {},
   "outputs": [],
   "source": [
    "def evaluate_accuracy(data_iter,net):\n",
    "    acc_sum,n = nd.array([0]),0\n",
    "    for X,y in data_iter:\n",
    "        y_hat = net(X)\n",
    "        acc_sum += (y_hat.argmax(axis=1) == y.astype('float32')).sum()\n",
    "        n+=y.size\n",
    "    return acc_sum.asscalar() / n"
   ]
  },
  {
   "cell_type": "markdown",
   "metadata": {},
   "source": [
    "# 5. 训练\n",
    "---"
   ]
  },
  {
   "cell_type": "code",
   "execution_count": 27,
   "metadata": {},
   "outputs": [],
   "source": [
    "def train(net,train_iter,test_iter,\n",
    "         batch_size,trainer,num_epochs):\n",
    "    loss = gloss.SoftmaxCrossEntropyLoss()\n",
    "    \n",
    "    for epoch in range(num_epochs):\n",
    "        # 别忘了这一行~要计算的是每一轮epoch所用的时间。\n",
    "        train_l_sum,train_acc_sum,n,start = 0.0,0.0,0,time.time()\n",
    "        for X,y in train_iter:\n",
    "            with autograd.record():\n",
    "                y_hat = net(X)\n",
    "                l = loss(y_hat,y).sum()\n",
    "            l.backward()\n",
    "            trainer.step(batch_size)\n",
    "            \n",
    "            # 每一轮训练（单位是batch）都要统计这个。\n",
    "            train_l_sum = l.asscalar()\n",
    "            train_acc_sum = (y_hat.argmax(axis=1)==y.astype('float32')).sum().asscalar()\n",
    "            n+=y.size\n",
    "            \n",
    "        # 但是test_acc是走完一轮epoch之后才测试的！\n",
    "        # 也就是，每将数据集全部训练完后才测试net的精准度。\n",
    "        test_acc = evaluate_accuracy(test_iter,net)\n",
    "        print('train_l_sum:',train_l_sum / n)\n",
    "        print('train_acc_sum:',train_acc_sum / n)\n",
    "        print('test_acc:',test_acc)\n",
    "        print('time consume:',time.time()-start)"
   ]
  },
  {
   "cell_type": "code",
   "execution_count": 28,
   "metadata": {},
   "outputs": [
    {
     "name": "stdout",
     "output_type": "stream",
     "text": [
      "train_l_sum: nan\n",
      "train_acc_sum: 0.00011666666666666667\n",
      "test_acc: 0.1\n",
      "time consume: 96.77768325805664\n",
      "train_l_sum: nan\n",
      "train_acc_sum: 0.00018333333333333334\n",
      "test_acc: 0.1\n",
      "time consume: 96.4963047504425\n",
      "train_l_sum: nan\n",
      "train_acc_sum: 0.00025\n",
      "test_acc: 0.1\n",
      "time consume: 97.957270860672\n",
      "train_l_sum: nan\n",
      "train_acc_sum: 0.00025\n",
      "test_acc: 0.1\n",
      "time consume: 96.63986539840698\n",
      "train_l_sum: nan\n",
      "train_acc_sum: 0.00015\n",
      "test_acc: 0.1\n",
      "time consume: 96.45490765571594\n"
     ]
    }
   ],
   "source": [
    "lr,num_epochs,batch_size = 1.0,5,256\n",
    "net.initialize(force_reinit = True,init = init.Xavier())\n",
    "trainer = gluon.Trainer(net.collect_params(),'sgd',{'learning_rate':lr})\n",
    "train(net,train_iter,test_iter,\n",
    "     batch_size,trainer,num_epochs)"
   ]
  },
  {
   "cell_type": "code",
   "execution_count": null,
   "metadata": {},
   "outputs": [],
   "source": []
  }
 ],
 "metadata": {
  "kernelspec": {
   "display_name": "jn_mxnet",
   "language": "python",
   "name": "mxnet"
  },
  "language_info": {
   "codemirror_mode": {
    "name": "ipython",
    "version": 3
   },
   "file_extension": ".py",
   "mimetype": "text/x-python",
   "name": "python",
   "nbconvert_exporter": "python",
   "pygments_lexer": "ipython3",
   "version": "3.6.12"
  },
  "varInspector": {
   "cols": {
    "lenName": 16,
    "lenType": 16,
    "lenVar": 40
   },
   "kernels_config": {
    "python": {
     "delete_cmd_postfix": "",
     "delete_cmd_prefix": "del ",
     "library": "var_list.py",
     "varRefreshCmd": "print(var_dic_list())"
    },
    "r": {
     "delete_cmd_postfix": ") ",
     "delete_cmd_prefix": "rm(",
     "library": "var_list.r",
     "varRefreshCmd": "cat(var_dic_list()) "
    }
   },
   "types_to_exclude": [
    "module",
    "function",
    "builtin_function_or_method",
    "instance",
    "_Feature"
   ],
   "window_display": false
  }
 },
 "nbformat": 4,
 "nbformat_minor": 4
}
