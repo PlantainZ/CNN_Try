{
 "cells": [
  {
   "cell_type": "code",
   "execution_count": 1,
   "metadata": {},
   "outputs": [],
   "source": [
    "import d2lzh as d2l\n",
    "from mxnet import gluon,init,nd\n",
    "from mxnet.gluon import nn"
   ]
  },
  {
   "cell_type": "markdown",
   "metadata": {},
   "source": [
    "# NiN区块\n",
    "---\n",
    "- 用1\\*1卷积层代替全连层\n",
    "     - 宽&高 = 样本\n",
    "     - 通道channels = 特征"
   ]
  },
  {
   "cell_type": "code",
   "execution_count": 2,
   "metadata": {},
   "outputs": [],
   "source": [
    "def nin_block(num_channels,kernel_size,strides,paddisng):\n",
    "    blk = nn.Sequential()\n",
    "    blk.add(nn.Conv2D(num_channels,kernel_size,strides,padding,activation='relu'),\n",
    "           nn.Conv2D(num_channels,kernel_size=1,activation='relu'),\n",
    "           nn.Conv2D(num_channels,kernel_size=1,activation='relu'))\n",
    "    return blk"
   ]
  },
  {
   "cell_type": "code",
   "execution_count": null,
   "metadata": {},
   "outputs": [],
   "source": []
  },
  {
   "cell_type": "code",
   "execution_count": null,
   "metadata": {},
   "outputs": [],
   "source": [
    "net = nn.Sequential()\n",
    "net.add( # 首先是三个规范式的组织\n",
    "        nin_block(num_channels=96,kernel_size=11,strides=5,padding=0),\n",
    "        nn.MaxPool2D(pool_size=3,strides=2), # 都是size为3步长为2\n",
    "       \n",
    "        nin_block(num_channels=256,kernel_size=5,strides=1,padding=2),\n",
    "        nn.MaxPool2D(pool_size=3,strides=2),\n",
    "       \n",
    "        nin_block(num_channels=384,kernel_size=3,strides=1,padding=1),\n",
    "        nn.MaxPool2D(pool_size=3,strides=2),nn.Dropout(0.5), # 看这！Dropout层！！！\n",
    "       \n",
    "        nin_block(num_channels=10,kernel_size=3,strides=1,padding=1), # 标签类别数是10！！！\n",
    "        nn.GlobalAvgPool2D(), # 全局平均池化层，会将窗口形状自动设置成输入的宽高。\n",
    "        nn.Flatten() # 将4维的输出转成2维的输出，形状(批量大小，10)\n",
    "       )"
   ]
  },
  {
   "cell_type": "code",
   "execution_count": null,
   "metadata": {},
   "outputs": [],
   "source": []
  },
  {
   "cell_type": "code",
   "execution_count": null,
   "metadata": {},
   "outputs": [],
   "source": []
  },
  {
   "cell_type": "code",
   "execution_count": null,
   "metadata": {},
   "outputs": [],
   "source": []
  },
  {
   "cell_type": "code",
   "execution_count": null,
   "metadata": {},
   "outputs": [],
   "source": []
  },
  {
   "cell_type": "code",
   "execution_count": null,
   "metadata": {},
   "outputs": [],
   "source": []
  }
 ],
 "metadata": {
  "kernelspec": {
   "display_name": "jn_mxnet",
   "language": "python",
   "name": "mxnet"
  },
  "language_info": {
   "codemirror_mode": {
    "name": "ipython",
    "version": 3
   },
   "file_extension": ".py",
   "mimetype": "text/x-python",
   "name": "python",
   "nbconvert_exporter": "python",
   "pygments_lexer": "ipython3",
   "version": "3.6.12"
  },
  "varInspector": {
   "cols": {
    "lenName": 16,
    "lenType": 16,
    "lenVar": 40
   },
   "kernels_config": {
    "python": {
     "delete_cmd_postfix": "",
     "delete_cmd_prefix": "del ",
     "library": "var_list.py",
     "varRefreshCmd": "print(var_dic_list())"
    },
    "r": {
     "delete_cmd_postfix": ") ",
     "delete_cmd_prefix": "rm(",
     "library": "var_list.r",
     "varRefreshCmd": "cat(var_dic_list()) "
    }
   },
   "types_to_exclude": [
    "module",
    "function",
    "builtin_function_or_method",
    "instance",
    "_Feature"
   ],
   "window_display": false
  }
 },
 "nbformat": 4,
 "nbformat_minor": 4
}
