{
 "cells": [
  {
   "cell_type": "code",
   "execution_count": 1,
   "metadata": {},
   "outputs": [],
   "source": [
    "import d2lzh as d2l\n",
    "from mxnet import gluon,init,nd\n",
    "from mxnet.gluon import nn"
   ]
  },
  {
   "cell_type": "markdown",
   "metadata": {},
   "source": [
    "# Inception\n",
    "---\n",
    "既能保持网络结构的稀疏性，又能利用密集矩阵的高计算性能"
   ]
  },
  {
   "cell_type": "code",
   "execution_count": 2,
   "metadata": {},
   "outputs": [],
   "source": [
    "class Inception(nn.Block): # Inception 的通道数分配之比是ImageNet数据集上大量实验得来的！！\n",
    "    # c1 - c4 为每条线路里的层的输出通道数\n",
    "    def __init__(self,c1,c2,c3,c4,**kwargs):\n",
    "        super(Inception,self).__init__(**kwargs)\n",
    "        \n",
    "        # 线路1，单1*1卷积层\n",
    "        self.p1_1 = nn.Conv2D(c1,kernel_size=1,activation='relu')\n",
    "        \n",
    "        # 线路2，1*1 + 3*3 卷积层\n",
    "        self.p2_1 = nn.Conv2D(c2[0],kernel_size=1,activation='relu')\n",
    "        self.p2_2 = nn.Conv2D(c2[1],kernel_size=3,padding=1,activation='relu')\n",
    "        \n",
    "        # 线路3，1*1 + 5*5 卷积层\n",
    "        self.p3_1 = nn.Conv2D(c3[0],kernel_size=1,activation='relu')\n",
    "        self.p3_2 = nn.Conv2D(c3[1],kernel_size=5,padding=2,activation='relu')\n",
    "        \n",
    "        # 线路4，3*3 + 1*1 卷积层\n",
    "        self.p4_1 = nn.MaxPool2D(pool_size=3,strides=1,padding=1)\n",
    "        self.p4_2 = nn.Conv2D(c4,kernel_size=1,activation='relu')\n",
    "        \n",
    "    def forward(self,x):\n",
    "        p1 = self.p1_1(x)\n",
    "        p2 = self.p2_2(self.p2_1(x))\n",
    "        p3 = self.p3_2(self.p3_1(x))\n",
    "        p4 = self.p4_2(self.p4_1(x))\n",
    "        return nd.concat(p1,p2,p3,p4,dim=1) # 在通道维上连结输出"
   ]
  },
  {
   "cell_type": "markdown",
   "metadata": {},
   "source": [
    "# 主体\n",
    "---\n",
    "- 主体卷积部分使用5个block\n",
    "    1. 每个block间使用3\\*3 maxPooling 来减小输出高宽。"
   ]
  },
  {
   "cell_type": "code",
   "execution_count": 3,
   "metadata": {},
   "outputs": [],
   "source": [
    "# 模块1\n",
    "b1 = nn.Sequential() # 使用64通道的 7*7卷积层\n",
    "b1.add(nn.Conv2D(64,kernel_size=7,strides=2,padding=3,activation='relu'), # output : 64*32*32\n",
    "      nn.MaxPool2D(pool_size=3,strides=2,padding=1)) # ouput : 64*16*16"
   ]
  },
  {
   "cell_type": "code",
   "execution_count": 4,
   "metadata": {},
   "outputs": [],
   "source": [
    "# 模块2\n",
    "b2 = nn.Sequential() # 64 通道的 1*1 卷积层\n",
    "b2.add(nn.Conv2D(channels=64,kernel_size=1,activation='relu'),\n",
    "      nn.Conv2D(channels=192,kernel_size=3,padding=1,activation='relu'), # 将通道增大了3倍，对应Inception中的第二条线路\n",
    "      nn.MaxPool2D(pool_size=3,strides=2,padding=1)) "
   ]
  },
  {
   "cell_type": "code",
   "execution_count": 6,
   "metadata": {},
   "outputs": [],
   "source": [
    "# 模块3\n",
    "b3 = nn.Sequential()\n",
    "b3.add( # 192 是上方的输入channel!!\n",
    "    # Inception1 输出通道数：64 + 128 + 32 + 32 = 256（2:4:1:1） ， \n",
    "    # 其中 2 & 3 线路将输入通道减少至 96/192 = 1/2 & 16/192 = 1/12\n",
    "      Inception(64,(96,128),(16,32),32),\n",
    "    \n",
    "    # Inception2 输出通道数：128 + 192 + 96 + 64 = 480 （4:6:3:2）， \n",
    "    # 其中 2 & 3 线路将输入通道减少至128/256 = 1/2 & 32/256 = 1/8 \n",
    "      Inception(128,(128,192),(32,96),64),\n",
    "    \n",
    "      nn.MaxPool2D(pool_size=3,strides=2,padding=1))"
   ]
  },
  {
   "cell_type": "code",
   "execution_count": 7,
   "metadata": {},
   "outputs": [],
   "source": [
    "# 模块4\n",
    "b4 = nn.Sequential()\n",
    "b4.add(\n",
    "    # Inception1 输出通道数:\n",
    "    Inception(192,(96,208),(16,48),64),\n",
    "    Inception(160,(112,224),(24,64),64),\n",
    "    Inception(128,(128,256),(24,64),64), # 前三个输出通道数都是512\n",
    "    Inception(112,(144,288),(32,64),64), # 528\n",
    "    Inception(256,(160,320),(32,128),128), # 832\n",
    "    \n",
    "    nn.MaxPool2D(pool_size=3,strides=2,padding=1)\n",
    "    )"
   ]
  },
  {
   "cell_type": "code",
   "execution_count": 8,
   "metadata": {},
   "outputs": [],
   "source": [
    "b5 = nn.Sequential()\n",
    "b5.add(\n",
    "        Inception(256,(160,320),(32,128),128), # total channel : 832\n",
    "        Inception(384,(192,384),(48,128),128), # total channel : 1024\n",
    "        \n",
    "        # 和NiN一样，使用全局平均池化层，将每个通道宽高变成1 \n",
    "        nn.GlobalAvgPool2D()\n",
    ")"
   ]
  },
  {
   "cell_type": "code",
   "execution_count": 9,
   "metadata": {},
   "outputs": [],
   "source": [
    "net = nn.Sequential()\n",
    "net.add(b1,b2,b3,b4,b5,nn.Dense(10)) # 注意后方，十个分类！！个数为标签类别"
   ]
  },
  {
   "cell_type": "code",
   "execution_count": 11,
   "metadata": {},
   "outputs": [
    {
     "name": "stdout",
     "output_type": "stream",
     "text": [
      "sequential0 output shape:\t (1, 64, 24, 24)\n",
      "sequential1 output shape:\t (1, 192, 48, 48)\n",
      "sequential3 output shape:\t (1, 480, 48, 48)\n",
      "sequential4 output shape:\t (1, 832, 48, 48)\n",
      "sequential5 output shape:\t (1, 1024, 1, 1)\n",
      "dense0 output shape:\t (1, 10)\n"
     ]
    }
   ],
   "source": [
    "# 这里测试各模块间的输出变化\n",
    "X = nd.random.uniform(shape=(1,1,96,96))\n",
    "net.initialize()\n",
    "for layer in net:\n",
    "    y_hat = layer(X)\n",
    "    print(layer.name,\"output shape:\\t\",y_hat.shape)"
   ]
  },
  {
   "cell_type": "markdown",
   "metadata": {},
   "source": [
    "# 训练模型\n",
    "---"
   ]
  },
  {
   "cell_type": "code",
   "execution_count": null,
   "metadata": {
    "pycharm": {
     "name": "#%%\n"
    }
   },
   "outputs": [],
   "source": [
    "lr,num_epochs,batch_size,ctx = 0.1,5,128,d2l.try_gpu()\n",
    "net.initialize(force_reinit=True,ctx=ctx,init = init.Xavier())\n",
    "trainer = gluon.Trainer(net.collect_params(),'sgd',{'learning_rate':lr})\n",
    "d2l.train_ch5(net,train_iter,test_iter,batch_size,trainer,ctx,num_epochs)\n"
   ]
  }
 ],
 "metadata": {
  "kernelspec": {
   "display_name": "jn_mxnet",
   "language": "python",
   "name": "mxnet"
  },
  "language_info": {
   "codemirror_mode": {
    "name": "ipython",
    "version": 3
   },
   "file_extension": ".py",
   "mimetype": "text/x-python",
   "name": "python",
   "nbconvert_exporter": "python",
   "pygments_lexer": "ipython3",
   "version": "3.6.12"
  },
  "varInspector": {
   "cols": {
    "lenName": 16,
    "lenType": 16,
    "lenVar": 40
   },
   "kernels_config": {
    "python": {
     "delete_cmd_postfix": "",
     "delete_cmd_prefix": "del ",
     "library": "var_list.py",
     "varRefreshCmd": "print(var_dic_list())"
    },
    "r": {
     "delete_cmd_postfix": ") ",
     "delete_cmd_prefix": "rm(",
     "library": "var_list.r",
     "varRefreshCmd": "cat(var_dic_list()) "
    }
   },
   "types_to_exclude": [
    "module",
    "function",
    "builtin_function_or_method",
    "instance",
    "_Feature"
   ],
   "window_display": false
  }
 },
 "nbformat": 4,
 "nbformat_minor": 4
}