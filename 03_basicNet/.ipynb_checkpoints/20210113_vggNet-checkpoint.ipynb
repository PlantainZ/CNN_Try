{
 "cells": [
  {
   "cell_type": "code",
   "execution_count": 5,
   "metadata": {},
   "outputs": [],
   "source": [
    "from mxnet import gluon,init,nd\n",
    "from mxnet.gluon import nn\n",
    "import d2lzh as d2l"
   ]
  },
  {
   "cell_type": "code",
   "execution_count": 6,
   "metadata": {},
   "outputs": [],
   "source": [
    "def vgg_block(num_convs,num_channels):\n",
    "    blk = nn.Sequential()\n",
    "    for _ in range(num_convs): \n",
    "        blk.add(nn.Conv2D(num_channels,kernel_size=3,padding=1,activation='relu'))\n",
    "    blk.add(nn.MaxPool2D(pool_size=2,strides=2))\n",
    "    return blk"
   ]
  },
  {
   "cell_type": "code",
   "execution_count": 7,
   "metadata": {},
   "outputs": [],
   "source": [
    "conv_arch = ((1,64),(1,128),(2,256),(2,512),(2,512))"
   ]
  },
  {
   "cell_type": "code",
   "execution_count": 8,
   "metadata": {},
   "outputs": [],
   "source": [
    "def vgg(conv_arch):\n",
    "    net = nn.Sequential()\n",
    "    for(num_convs,num_channels) in conv_arch:# 容器里面装容器\n",
    "        net.add(vgg_block(num_convs,num_channels)) \n",
    "    \n",
    "    # 全连接部分\n",
    "    net.add(nn.Dense(4096,activation='relu'),nn.Dropout(0.5),\n",
    "           nn.Dense(4096,activation='relu'),nn.Dropout(0.5),\n",
    "           nn.Dense(10))\n",
    "    return net"
   ]
  },
  {
   "cell_type": "code",
   "execution_count": 9,
   "metadata": {
    "code_folding": [
     0
    ]
   },
   "outputs": [
    {
     "name": "stdout",
     "output_type": "stream",
     "text": [
      "sequential1 output shape:\t (1, 64, 112, 112)\n",
      "sequential2 output shape:\t (1, 128, 56, 56)\n",
      "sequential3 output shape:\t (1, 256, 28, 28)\n",
      "sequential4 output shape:\t (1, 512, 14, 14)\n",
      "sequential5 output shape:\t (1, 512, 7, 7)\n",
      "dense0 output shape:\t (1, 4096)\n",
      "dropout0 output shape:\t (1, 4096)\n",
      "dense1 output shape:\t (1, 4096)\n",
      "dropout1 output shape:\t (1, 4096)\n",
      "dense2 output shape:\t (1, 10)\n"
     ]
    }
   ],
   "source": [
    "# 看模型的形状！\n",
    "net = vgg(conv_arch)\n",
    "net.initialize()\n",
    "\n",
    "X = nd.random.normal(shape=(1,1,224,224))\n",
    "for blk in net:\n",
    "    X = blk(X)\n",
    "    print(blk.name,'output shape:\\t',X.shape)"
   ]
  },
  {
   "cell_type": "code",
   "execution_count": null,
   "metadata": {
    "collapsed": true
   },
   "outputs": [
    {
     "name": "stderr",
     "output_type": "stream",
     "text": [
      "D:\\Anaconda3\\envs\\mxnet\\lib\\site-packages\\mxnet\\gluon\\parameter.py:893: UserWarning: Parameter 'conv0_weight' is already initialized, ignoring. Set force_reinit=True to re-initialize.\n",
      "  v.initialize(None, ctx, init, force_reinit=force_reinit)\n",
      "D:\\Anaconda3\\envs\\mxnet\\lib\\site-packages\\mxnet\\gluon\\parameter.py:893: UserWarning: Parameter 'conv0_bias' is already initialized, ignoring. Set force_reinit=True to re-initialize.\n",
      "  v.initialize(None, ctx, init, force_reinit=force_reinit)\n",
      "D:\\Anaconda3\\envs\\mxnet\\lib\\site-packages\\mxnet\\gluon\\parameter.py:893: UserWarning: Parameter 'conv1_weight' is already initialized, ignoring. Set force_reinit=True to re-initialize.\n",
      "  v.initialize(None, ctx, init, force_reinit=force_reinit)\n",
      "D:\\Anaconda3\\envs\\mxnet\\lib\\site-packages\\mxnet\\gluon\\parameter.py:893: UserWarning: Parameter 'conv1_bias' is already initialized, ignoring. Set force_reinit=True to re-initialize.\n",
      "  v.initialize(None, ctx, init, force_reinit=force_reinit)\n",
      "D:\\Anaconda3\\envs\\mxnet\\lib\\site-packages\\mxnet\\gluon\\parameter.py:893: UserWarning: Parameter 'conv2_weight' is already initialized, ignoring. Set force_reinit=True to re-initialize.\n",
      "  v.initialize(None, ctx, init, force_reinit=force_reinit)\n",
      "D:\\Anaconda3\\envs\\mxnet\\lib\\site-packages\\mxnet\\gluon\\parameter.py:893: UserWarning: Parameter 'conv2_bias' is already initialized, ignoring. Set force_reinit=True to re-initialize.\n",
      "  v.initialize(None, ctx, init, force_reinit=force_reinit)\n",
      "D:\\Anaconda3\\envs\\mxnet\\lib\\site-packages\\mxnet\\gluon\\parameter.py:893: UserWarning: Parameter 'conv3_weight' is already initialized, ignoring. Set force_reinit=True to re-initialize.\n",
      "  v.initialize(None, ctx, init, force_reinit=force_reinit)\n",
      "D:\\Anaconda3\\envs\\mxnet\\lib\\site-packages\\mxnet\\gluon\\parameter.py:893: UserWarning: Parameter 'conv3_bias' is already initialized, ignoring. Set force_reinit=True to re-initialize.\n",
      "  v.initialize(None, ctx, init, force_reinit=force_reinit)\n",
      "D:\\Anaconda3\\envs\\mxnet\\lib\\site-packages\\mxnet\\gluon\\parameter.py:893: UserWarning: Parameter 'conv4_weight' is already initialized, ignoring. Set force_reinit=True to re-initialize.\n",
      "  v.initialize(None, ctx, init, force_reinit=force_reinit)\n",
      "D:\\Anaconda3\\envs\\mxnet\\lib\\site-packages\\mxnet\\gluon\\parameter.py:893: UserWarning: Parameter 'conv4_bias' is already initialized, ignoring. Set force_reinit=True to re-initialize.\n",
      "  v.initialize(None, ctx, init, force_reinit=force_reinit)\n",
      "D:\\Anaconda3\\envs\\mxnet\\lib\\site-packages\\mxnet\\gluon\\parameter.py:893: UserWarning: Parameter 'conv5_weight' is already initialized, ignoring. Set force_reinit=True to re-initialize.\n",
      "  v.initialize(None, ctx, init, force_reinit=force_reinit)\n",
      "D:\\Anaconda3\\envs\\mxnet\\lib\\site-packages\\mxnet\\gluon\\parameter.py:893: UserWarning: Parameter 'conv5_bias' is already initialized, ignoring. Set force_reinit=True to re-initialize.\n",
      "  v.initialize(None, ctx, init, force_reinit=force_reinit)\n",
      "D:\\Anaconda3\\envs\\mxnet\\lib\\site-packages\\mxnet\\gluon\\parameter.py:893: UserWarning: Parameter 'conv6_weight' is already initialized, ignoring. Set force_reinit=True to re-initialize.\n",
      "  v.initialize(None, ctx, init, force_reinit=force_reinit)\n",
      "D:\\Anaconda3\\envs\\mxnet\\lib\\site-packages\\mxnet\\gluon\\parameter.py:893: UserWarning: Parameter 'conv6_bias' is already initialized, ignoring. Set force_reinit=True to re-initialize.\n",
      "  v.initialize(None, ctx, init, force_reinit=force_reinit)\n",
      "D:\\Anaconda3\\envs\\mxnet\\lib\\site-packages\\mxnet\\gluon\\parameter.py:893: UserWarning: Parameter 'conv7_weight' is already initialized, ignoring. Set force_reinit=True to re-initialize.\n",
      "  v.initialize(None, ctx, init, force_reinit=force_reinit)\n",
      "D:\\Anaconda3\\envs\\mxnet\\lib\\site-packages\\mxnet\\gluon\\parameter.py:893: UserWarning: Parameter 'conv7_bias' is already initialized, ignoring. Set force_reinit=True to re-initialize.\n",
      "  v.initialize(None, ctx, init, force_reinit=force_reinit)\n",
      "D:\\Anaconda3\\envs\\mxnet\\lib\\site-packages\\mxnet\\gluon\\parameter.py:893: UserWarning: Parameter 'dense0_weight' is already initialized, ignoring. Set force_reinit=True to re-initialize.\n",
      "  v.initialize(None, ctx, init, force_reinit=force_reinit)\n",
      "D:\\Anaconda3\\envs\\mxnet\\lib\\site-packages\\mxnet\\gluon\\parameter.py:893: UserWarning: Parameter 'dense0_bias' is already initialized, ignoring. Set force_reinit=True to re-initialize.\n",
      "  v.initialize(None, ctx, init, force_reinit=force_reinit)\n",
      "D:\\Anaconda3\\envs\\mxnet\\lib\\site-packages\\mxnet\\gluon\\parameter.py:893: UserWarning: Parameter 'dense1_weight' is already initialized, ignoring. Set force_reinit=True to re-initialize.\n",
      "  v.initialize(None, ctx, init, force_reinit=force_reinit)\n",
      "D:\\Anaconda3\\envs\\mxnet\\lib\\site-packages\\mxnet\\gluon\\parameter.py:893: UserWarning: Parameter 'dense1_bias' is already initialized, ignoring. Set force_reinit=True to re-initialize.\n",
      "  v.initialize(None, ctx, init, force_reinit=force_reinit)\n",
      "D:\\Anaconda3\\envs\\mxnet\\lib\\site-packages\\mxnet\\gluon\\parameter.py:893: UserWarning: Parameter 'dense2_weight' is already initialized, ignoring. Set force_reinit=True to re-initialize.\n",
      "  v.initialize(None, ctx, init, force_reinit=force_reinit)\n",
      "D:\\Anaconda3\\envs\\mxnet\\lib\\site-packages\\mxnet\\gluon\\parameter.py:893: UserWarning: Parameter 'dense2_bias' is already initialized, ignoring. Set force_reinit=True to re-initialize.\n",
      "  v.initialize(None, ctx, init, force_reinit=force_reinit)\n"
     ]
    },
    {
     "name": "stdout",
     "output_type": "stream",
     "text": [
      "training on cpu(0)\n"
     ]
    }
   ],
   "source": [
    "lr,num_epochs,batch_size,ctx=0.05,5,128,d2l.try_gpu()\n",
    "net.initialize(ctx=ctx,init=init.Xavier()) # 这里要reInitialize\n",
    "trainer = gluon.Trainer(net.collect_params(),'sgd',{'learning_rate':lr})\n",
    "train_iter,test_iter = d2l.load_data_fashion_mnist(batch_size,resize=224)\n",
    "d2l.train_ch5(net,train_iter,test_iter,batch_size,trainer,ctx,num_epochs)"
   ]
  }
 ],
 "metadata": {
  "kernelspec": {
   "display_name": "jn_mxnet",
   "language": "python",
   "name": "mxnet"
  },
  "language_info": {
   "codemirror_mode": {
    "name": "ipython",
    "version": 3
   },
   "file_extension": ".py",
   "mimetype": "text/x-python",
   "name": "python",
   "nbconvert_exporter": "python",
   "pygments_lexer": "ipython3",
   "version": "3.6.12"
  },
  "varInspector": {
   "cols": {
    "lenName": 16,
    "lenType": 16,
    "lenVar": 40
   },
   "kernels_config": {
    "python": {
     "delete_cmd_postfix": "",
     "delete_cmd_prefix": "del ",
     "library": "var_list.py",
     "varRefreshCmd": "print(var_dic_list())"
    },
    "r": {
     "delete_cmd_postfix": ") ",
     "delete_cmd_prefix": "rm(",
     "library": "var_list.r",
     "varRefreshCmd": "cat(var_dic_list()) "
    }
   },
   "types_to_exclude": [
    "module",
    "function",
    "builtin_function_or_method",
    "instance",
    "_Feature"
   ],
   "window_display": false
  }
 },
 "nbformat": 4,
 "nbformat_minor": 4
}
