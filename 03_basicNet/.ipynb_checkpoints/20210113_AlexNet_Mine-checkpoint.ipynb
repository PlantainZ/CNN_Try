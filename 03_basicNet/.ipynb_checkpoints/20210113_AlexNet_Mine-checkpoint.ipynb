{
 "cells": [
  {
   "cell_type": "code",
   "execution_count": 14,
   "metadata": {},
   "outputs": [],
   "source": [
    "from mxnet import nd,autograd,gluon\n",
    "from mxnet.gluon import nn,data as gdata,loss as gloss\n",
    "import sys"
   ]
  },
  {
   "cell_type": "code",
   "execution_count": 7,
   "metadata": {},
   "outputs": [],
   "source": [
    "mnist_path = r\"C:\\Users\\59352\\.mxnet\\datasets\\fashion-mnist\"\n",
    "def load_data_fashion_mnist(batch_size,resize=None):\n",
    "    train_mnist = gdata.vision.FashionMNIST(train=True,root=mnist_path)\n",
    "    test_mnist = gdata.vision.FashionMNIST(train=False,root=mnist_path)\n",
    "    \n",
    "    num_worker = 0 if sys.platform.startswith('win') else 4\n",
    "    \n",
    "    transformer = []\n",
    "    if resize:\n",
    "        transformer += [gdata.vision.transforms.Resize(resize)]\n",
    "    transformer += [gdata.vision.transforms.ToTensor()]\n",
    "    transformer = gdata.vision.transforms.Compose(transformer)\n",
    "    \n",
    "    train_iter = gdata.DataLoader(train_mnist.transform_first(transformer),\n",
    "                                  batch_size=batch_size,shuffle=True,num_workers=num_worker)\n",
    "    test_iter = gdata.DataLoader(test_mnist.transform_first(transformer),\n",
    "                                 batch_size=batch_size,shuffle=False,num_workers=num_worker)\n",
    "    return train_iter,test_iter"
   ]
  },
  {
   "cell_type": "code",
   "execution_count": 8,
   "metadata": {},
   "outputs": [
    {
     "data": {
      "text/plain": [
       "(<mxnet.gluon.data.dataloader.DataLoader at 0x20e7a171c50>,\n",
       " <mxnet.gluon.data.dataloader.DataLoader at 0x20e7969d128>)"
      ]
     },
     "execution_count": 8,
     "metadata": {},
     "output_type": "execute_result"
    }
   ],
   "source": [
    "batch_size=128\n",
    "load_data_fashion_mnist(batch_size,resize=224)"
   ]
  },
  {
   "cell_type": "code",
   "execution_count": 12,
   "metadata": {},
   "outputs": [],
   "source": [
    "net = nn.Sequential()\n",
    "net.add(nn.Conv2D(channels=96,kernel_size=11,strides=4,activation='relu'),\n",
    "       nn.MaxPool2D(pool_size=3,strides=2),\n",
    "       nn.Conv2D(channels=256,kernel_size=5,padding=2,activation='relu'),\n",
    "       nn.MaxPool2D(pool_size=3,strides=2),\n",
    "       \n",
    "       nn.Conv2D(384,kernel_size=3,padding=1,activation='relu'),\n",
    "       nn.Conv2D(384,kernel_size=3,padding=1,activation='relu'),\n",
    "       nn.Conv2D(256,kernel_size=3,padding=1,activation='relu'),\n",
    "       nn.MaxPool2D(pool_size=3,strides=2),\n",
    "       \n",
    "       nn.Dense(4096,activation='relu'),\n",
    "       nn.Dropout(0.5),\n",
    "       nn.Dense(4096,activation='relu'),\n",
    "       nn.Dropout(0.5),\n",
    "       nn.Dense(10))\n",
    "net.initialize()"
   ]
  },
  {
   "cell_type": "code",
   "execution_count": 11,
   "metadata": {},
   "outputs": [],
   "source": [
    "def evaluate_accuracy(data_iter,net):\n",
    "    acc_sum , n = 0.0,0\n",
    "    for X,y in data_iter:\n",
    "        y_hat = net(X)\n",
    "        acc_sum += (y_hat.argmax(axis=1) == y.astype('float32')).sum().asscalar()\n",
    "        n+=y.size\n",
    "    return acc_sum/n"
   ]
  },
  {
   "cell_type": "code",
   "execution_count": 13,
   "metadata": {},
   "outputs": [],
   "source": [
    "def train(net,train_iter,test_iter,num_epochs,batch_size,trainer,learning_rate):\n",
    "    test_acc_sum,train_acc_sum,l_sum,n = 0.0,0.0,0.0,0\n",
    "    \n",
    "    loss = gloss.SoftmaxCrossEntropyLoss()\n",
    "    for epoch in range(num_epochs):\n",
    "        for X,y in train_iter:\n",
    "            with autograd.record():\n",
    "                y_hat = net(X)\n",
    "                l = loss(y_hat,y)\n",
    "            l.backward()\n",
    "            trainer.step(batch_size)\n",
    "            \n",
    "            l_sum += l.asscalar()\n",
    "            train_acc_sum += (y_hat.argmax(axis=1) == y.astype('float32')).sum().asscalar()\n",
    "            n += y.size\n",
    "        test_acc_sum = evaluate_accuracy(test_iter,net)\n",
    "        print('epoch %d,train_acc %.4f , test_acc %.4f,l_sum %.3f'\n",
    "             %(epoch+1,train_acc_sum/n,test_acc_sum/n))\n",
    "        "
   ]
  },
  {
   "cell_type": "code",
   "execution_count": null,
   "metadata": {},
   "outputs": [],
   "source": [
    "learning_rate,num_epochs = 0.01,5\n",
    "trainer = gluon.Trainer(net.collect_params(),'sgd',{'learning_rate':learning_rate})\n",
    "train(net,train_iter,test_iter,num_epochs,batch_size,trainer,learning_rate)"
   ]
  },
  {
   "cell_type": "code",
   "execution_count": null,
   "metadata": {},
   "outputs": [],
   "source": []
  },
  {
   "cell_type": "code",
   "execution_count": null,
   "metadata": {},
   "outputs": [],
   "source": []
  },
  {
   "cell_type": "code",
   "execution_count": null,
   "metadata": {},
   "outputs": [],
   "source": []
  },
  {
   "cell_type": "code",
   "execution_count": null,
   "metadata": {},
   "outputs": [],
   "source": []
  },
  {
   "cell_type": "code",
   "execution_count": null,
   "metadata": {},
   "outputs": [],
   "source": []
  }
 ],
 "metadata": {
  "kernelspec": {
   "display_name": "jn_mxnet",
   "language": "python",
   "name": "mxnet"
  },
  "language_info": {
   "codemirror_mode": {
    "name": "ipython",
    "version": 3
   },
   "file_extension": ".py",
   "mimetype": "text/x-python",
   "name": "python",
   "nbconvert_exporter": "python",
   "pygments_lexer": "ipython3",
   "version": "3.6.12"
  },
  "varInspector": {
   "cols": {
    "lenName": 16,
    "lenType": 16,
    "lenVar": 40
   },
   "kernels_config": {
    "python": {
     "delete_cmd_postfix": "",
     "delete_cmd_prefix": "del ",
     "library": "var_list.py",
     "varRefreshCmd": "print(var_dic_list())"
    },
    "r": {
     "delete_cmd_postfix": ") ",
     "delete_cmd_prefix": "rm(",
     "library": "var_list.r",
     "varRefreshCmd": "cat(var_dic_list()) "
    }
   },
   "types_to_exclude": [
    "module",
    "function",
    "builtin_function_or_method",
    "instance",
    "_Feature"
   ],
   "window_display": false
  }
 },
 "nbformat": 4,
 "nbformat_minor": 4
}
