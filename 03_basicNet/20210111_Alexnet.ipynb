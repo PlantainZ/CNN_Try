{
 "cells": [
  {
   "cell_type": "code",
   "execution_count": 1,
   "metadata": {},
   "outputs": [],
   "source": [
    "from mxnet import gluon,init,nd\n",
    "from mxnet.gluon import data as gdata,nn\n",
    "import os,sys"
   ]
  },
  {
   "cell_type": "markdown",
   "metadata": {},
   "source": [
    "# 1. 获取数据 / 生成iter\n",
    "---"
   ]
  },
  {
   "cell_type": "code",
   "execution_count": 7,
   "metadata": {},
   "outputs": [],
   "source": [
    "mnist_path = r\"C:\\Users\\59352\\.mxnet\\datasets\\fashion-mnist\"\n",
    "def load_data_fashion_mnist(batch_size,resize = None):\n",
    "    transformer = []\n",
    "    if resize:\n",
    "        transformer += [gdata.vision.transforms.Resize(resize)]\n",
    "    transformer += [gdata.vision.transforms.ToTensor()]\n",
    "    transformer = gdata.vision.transforms.Compose(transformer)\n",
    "    \n",
    "    mnist_train = gdata.vision.FashionMNIST(root=mnist_path,train=True)\n",
    "    mnist_test = gdata.vision.FashionMNIST(root=mnist_path,train=False)\n",
    "    \n",
    "    num_workers = 0 if sys.platform.startswith('win') else 4\n",
    "    \n",
    "    train_iter = gdata.DataLoader(mnist_train.transform_first(transformer),\n",
    "                                  batch_size=batch_size,shuffle=True,num_workers=num_workers)\n",
    "    test_iter = gdata.DataLoader(mnist_test.transform_first(transformer),\n",
    "                                batch_size=batch_size,shuffle=False,num_workers=num_workers)\n",
    "    return train_iter,test_iter"
   ]
  },
  {
   "cell_type": "code",
   "execution_count": null,
   "metadata": {},
   "outputs": [],
   "source": [
    "batch_size = 128\n",
    "train_iter,test_iter = load_data_fashion_mnist(batch_size,resize=224)"
   ]
  },
  {
   "cell_type": "markdown",
   "metadata": {},
   "source": [
    "# 2. 生成模型\n",
    "---\n",
    "> input: (1,1,224,224)\n",
    "\n",
    "- network construction:(all activation are `relu`)\n",
    "    ```\n",
    "    1. conv 1 output : ( 1 , 96 , 54 , 54 )\n",
    "    2. pool 1 output : ( 1 , 96 , 26 , 26 )\n",
    "    3. conv 2 output : ( 1 , 256 , 26 , 26 )\n",
    "    4. pool 2 output : ( 1 , 256 , 12 , 12 )\n",
    "    5. conv 3 output : ( 1 , 384 , 12 , 12 )\n",
    "    6. conv 4 output : ( 1 , 384 , 12 , 12 )....??????干饭层?????\n",
    "    7. pool 3 output : ( 1 , 256 , 5 , 5 )\n",
    "    ```\n",
    "    \n",
    "    ```\n",
    "    8. dense 1 output : ( 1 , 4096 )\n",
    "    9. dropout 1 output : ( 1 , 4096 )\n",
    "    10. dense 2 output : ( 1,4096 )\n",
    "    11. dropout 2 output : ( 1 , 4096 )\n",
    "    12. dense 3 output : ( 1 , 10 )\n",
    "    ```"
   ]
  },
  {
   "cell_type": "code",
   "execution_count": null,
   "metadata": {},
   "outputs": [],
   "source": [
    "net = nn.Sequential()\n",
    "net.add(nn.Conv2D(channels=96,kernel_size=11,strides=4,activation='relu'),\n",
    "       nn.MaxPool2D)"
   ]
  },
  {
   "cell_type": "markdown",
   "metadata": {},
   "source": [
    "# 3. 训练\n",
    "---"
   ]
  },
  {
   "cell_type": "code",
   "execution_count": null,
   "metadata": {},
   "outputs": [],
   "source": [
    "lr,num_epochs,ctx = 0.01,5,d2l.try_gpu()\n"
   ]
  },
  {
   "cell_type": "code",
   "execution_count": null,
   "metadata": {},
   "outputs": [],
   "source": []
  },
  {
   "cell_type": "code",
   "execution_count": null,
   "metadata": {},
   "outputs": [],
   "source": []
  },
  {
   "cell_type": "code",
   "execution_count": null,
   "metadata": {},
   "outputs": [],
   "source": []
  },
  {
   "cell_type": "code",
   "execution_count": null,
   "metadata": {},
   "outputs": [],
   "source": []
  },
  {
   "cell_type": "code",
   "execution_count": null,
   "metadata": {},
   "outputs": [],
   "source": []
  }
 ],
 "metadata": {
  "kernelspec": {
   "display_name": "jn_mxnet",
   "language": "python",
   "name": "mxnet"
  },
  "language_info": {
   "codemirror_mode": {
    "name": "ipython",
    "version": 3
   },
   "file_extension": ".py",
   "mimetype": "text/x-python",
   "name": "python",
   "nbconvert_exporter": "python",
   "pygments_lexer": "ipython3",
   "version": "3.6.12"
  },
  "varInspector": {
   "cols": {
    "lenName": 16,
    "lenType": 16,
    "lenVar": 40
   },
   "kernels_config": {
    "python": {
     "delete_cmd_postfix": "",
     "delete_cmd_prefix": "del ",
     "library": "var_list.py",
     "varRefreshCmd": "print(var_dic_list())"
    },
    "r": {
     "delete_cmd_postfix": ") ",
     "delete_cmd_prefix": "rm(",
     "library": "var_list.r",
     "varRefreshCmd": "cat(var_dic_list()) "
    }
   },
   "types_to_exclude": [
    "module",
    "function",
    "builtin_function_or_method",
    "instance",
    "_Feature"
   ],
   "window_display": false
  }
 },
 "nbformat": 4,
 "nbformat_minor": 4
}
