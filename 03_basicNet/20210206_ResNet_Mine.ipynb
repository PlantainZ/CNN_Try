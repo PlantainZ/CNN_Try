{
 "cells": [
  {
   "cell_type": "code",
   "execution_count": 1,
   "metadata": {},
   "outputs": [],
   "source": [
    "from mxnet import gluon,init,nd,autograd\n",
    "from mxnet.gluon import nn,data as gdata,loss as gloss"
   ]
  },
  {
   "cell_type": "markdown",
   "metadata": {},
   "source": [
    "# 1.Res_block\n",
    "---"
   ]
  },
  {
   "cell_type": "code",
   "execution_count": 2,
   "metadata": {},
   "outputs": [],
   "source": [
    "class Residual(nn.Block):\n",
    "    def __init__(self,num_channels,use_1x1conv = False,strides = 1,**kwargs):\n",
    "        super(Residual,self).__init__(**kwargs)\n",
    "        \n",
    "        self.conv1 = nn.Conv2D(num_channels,kernel_size=3,padding=1,strides=strides)\n",
    "        self.conv2 = nn.Conv2D(num_channels,kernel_size=3,padding=1)\n",
    "        \n",
    "        if use_1x1conv:\n",
    "            self.conv3 = nn.Conv2D(num_channels,kernel_size=1,strides=strides)\n",
    "        else:\n",
    "            self.conv3 = None\n",
    "            \n",
    "        self.bn1 = nn.BatchNorm()\n",
    "        self.bn2 = nn.BatchNorm()\n",
    "    \n",
    "    def forward(self,X):\n",
    "        Y = nd.relu(self.bn1(self.conv1(X)))\n",
    "        Y = self.bn2(self.conv2(Y))\n",
    "        if self.conv3:\n",
    "            X = self.conv3(X)\n",
    "        return nd.relu(Y + X)"
   ]
  },
  {
   "cell_type": "code",
   "execution_count": 3,
   "metadata": {
    "code_folding": []
   },
   "outputs": [
    {
     "data": {
      "text/plain": [
       "(8, 3, 12, 12)"
      ]
     },
     "execution_count": 3,
     "metadata": {},
     "output_type": "execute_result"
    }
   ],
   "source": [
    "# 浅层测试\n",
    "blk = Residual(3)\n",
    "blk.initialize()\n",
    "X = nd.random.uniform(shape=(8,3,12,12))\n",
    "blk(X).shape"
   ]
  },
  {
   "cell_type": "code",
   "execution_count": 4,
   "metadata": {},
   "outputs": [
    {
     "data": {
      "text/plain": [
       "(8, 6, 6, 6)"
      ]
     },
     "execution_count": 4,
     "metadata": {},
     "output_type": "execute_result"
    }
   ],
   "source": [
    "# 深层测试\n",
    "blk = Residual(6,use_1x1conv=True,strides=2)\n",
    "blk.initialize()\n",
    "blk(X).shape"
   ]
  },
  {
   "cell_type": "code",
   "execution_count": 5,
   "metadata": {},
   "outputs": [],
   "source": [
    "def resnet_block(num_channels,num_residual,first_block = False):\n",
    "    blk = nn.Sequential()\n",
    "    for i in range(num_residual):\n",
    "        if i == 0 and not first_block:\n",
    "            blk.add(Residual(num_channels,use_1x1conv=True,strides=2))\n",
    "        else:\n",
    "            blk.add(Residual(num_channels))\n",
    "    return blk"
   ]
  },
  {
   "cell_type": "code",
   "execution_count": 6,
   "metadata": {},
   "outputs": [],
   "source": [
    "net = nn.Sequential()\n",
    "net.add(nn.Conv2D(64,kernel_size=7,strides=2,padding=3),\n",
    "        nn.BatchNorm(),\n",
    "        nn.Activation('relu'),\n",
    "        nn.MaxPool2D(pool_size=3,strides=2,padding=1))"
   ]
  },
  {
   "cell_type": "code",
   "execution_count": 7,
   "metadata": {},
   "outputs": [],
   "source": [
    "net.add(resnet_block(64,2,first_block=True), \n",
    "       resnet_block(128,2),\n",
    "       resnet_block(256,2),\n",
    "       resnet_block(512,2))"
   ]
  },
  {
   "cell_type": "code",
   "execution_count": 8,
   "metadata": {},
   "outputs": [],
   "source": [
    "net.add(nn.GlobalAvgPool2D(),\n",
    "        nn.Dense(10))"
   ]
  },
  {
   "cell_type": "code",
   "execution_count": 9,
   "metadata": {},
   "outputs": [
    {
     "name": "stdout",
     "output_type": "stream",
     "text": [
      "conv5 output shape:\t (1, 64, 112, 112)\n",
      "batchnorm4 output shape:\t (1, 64, 112, 112)\n",
      "relu0 output shape:\t (1, 64, 112, 112)\n",
      "pool0 output shape:\t (1, 64, 56, 56)\n",
      "sequential1 output shape:\t (1, 64, 56, 56)\n",
      "sequential2 output shape:\t (1, 128, 28, 28)\n",
      "sequential3 output shape:\t (1, 256, 14, 14)\n",
      "sequential4 output shape:\t (1, 512, 7, 7)\n",
      "pool1 output shape:\t (1, 512, 1, 1)\n",
      "dense0 output shape:\t (1, 10)\n"
     ]
    }
   ],
   "source": [
    "X = nd.random.uniform(shape=(1,1,224,224))\n",
    "net.initialize()\n",
    "for layer in net:\n",
    "    X = layer(X)\n",
    "    print(layer.name,\"output shape:\\t\",X.shape)"
   ]
  },
  {
   "cell_type": "code",
   "execution_count": 10,
   "metadata": {},
   "outputs": [],
   "source": [
    "batch_size=256\n",
    "mnist_train = gdata.vision.FashionMNIST(train=True)\n",
    "mnist_test = gdata.vision.FashionMNIST(train=False)\n",
    "\n",
    "transformer = gdata.vision.transforms.ToTensor()\n",
    "train_iter = gdata.DataLoader(mnist_train.transform_first(transformer),batch_size=batch_size,shuffle=True)\n",
    "test_iter = gdata.DataLoader(mnist_test.transform_first(transformer),batch_size=batch_size,shuffle=False)"
   ]
  },
  {
   "cell_type": "code",
   "execution_count": 11,
   "metadata": {},
   "outputs": [],
   "source": [
    "def evaluate_accuracy(net,data_iter):\n",
    "    acc_sum,n = nd.array([0]),0\n",
    "    for X,y in data_iter:\n",
    "        y_hat = net(X)\n",
    "        acc_sum += (y_hat.argmax(axis = 1) == y.astype('float32')).sum()\n",
    "        print('evaluate_accuracy,acc_sum.shape:',acc_sum.shape)\n",
    "        n += y.size\n",
    "    return acc_sum/n"
   ]
  },
  {
   "cell_type": "code",
   "execution_count": 12,
   "metadata": {},
   "outputs": [],
   "source": [
    "def train(net,train_iter,test_iter,\n",
    "         batch_size,num_epochs,trainer,lr):\n",
    "    l_sum,acc_sum ,n = 0.0,0.0,0\n",
    "    loss = gloss.SoftmaxCrossEntropyLoss()\n",
    "    for epoch in range(num_epochs):\n",
    "        print('now is trainning...epoch %d' %epoch)\n",
    "        for X,y in train_iter:\n",
    "            with autograd.record():\n",
    "                y_hat = net(X)\n",
    "                l = loss(y_hat,y).sum()\n",
    "            l.backward()\n",
    "            trainer.step(batch_size)\n",
    "            \n",
    "            acc_sum = (net(X).argmax(axis = 1) == y.astype('float32')).sum().asscalar()\n",
    "            l_sum += l.asscalar()\n",
    "            n += y.size\n",
    "        test_acc = evaluate_accuracy(net,test_iter)\n",
    "        print('epoch %d ==========' %epoch)\n",
    "        print('train_acc : ',acc_sum/n)\n",
    "        print('train_loss :',l_sum/n)\n",
    "        print('\\n test_acc :',test_acc)"
   ]
  },
  {
   "cell_type": "code",
   "execution_count": null,
   "metadata": {
    "code_folding": []
   },
   "outputs": [
    {
     "name": "stdout",
     "output_type": "stream",
     "text": [
      "now is trainning...epoch 0\n",
      "evaluate_accuracy,acc_sum.shape: (1,)\n",
      "evaluate_accuracy,acc_sum.shape: (1,)\n",
      "evaluate_accuracy,acc_sum.shape: (1,)\n",
      "evaluate_accuracy,acc_sum.shape: (1,)\n",
      "evaluate_accuracy,acc_sum.shape: (1,)\n",
      "evaluate_accuracy,acc_sum.shape: (1,)\n",
      "evaluate_accuracy,acc_sum.shape: (1,)\n",
      "evaluate_accuracy,acc_sum.shape: (1,)\n",
      "evaluate_accuracy,acc_sum.shape: (1,)\n",
      "evaluate_accuracy,acc_sum.shape: (1,)\n",
      "evaluate_accuracy,acc_sum.shape: (1,)\n",
      "evaluate_accuracy,acc_sum.shape: (1,)\n",
      "evaluate_accuracy,acc_sum.shape: (1,)\n",
      "evaluate_accuracy,acc_sum.shape: (1,)\n",
      "evaluate_accuracy,acc_sum.shape: (1,)\n",
      "evaluate_accuracy,acc_sum.shape: (1,)\n",
      "evaluate_accuracy,acc_sum.shape: (1,)\n",
      "evaluate_accuracy,acc_sum.shape: (1,)\n",
      "evaluate_accuracy,acc_sum.shape: (1,)\n",
      "evaluate_accuracy,acc_sum.shape: (1,)\n",
      "evaluate_accuracy,acc_sum.shape: (1,)\n",
      "evaluate_accuracy,acc_sum.shape: (1,)\n",
      "evaluate_accuracy,acc_sum.shape: (1,)\n",
      "evaluate_accuracy,acc_sum.shape: (1,)\n",
      "evaluate_accuracy,acc_sum.shape: (1,)\n",
      "evaluate_accuracy,acc_sum.shape: (1,)\n",
      "evaluate_accuracy,acc_sum.shape: (1,)\n",
      "evaluate_accuracy,acc_sum.shape: (1,)\n",
      "evaluate_accuracy,acc_sum.shape: (1,)\n",
      "evaluate_accuracy,acc_sum.shape: (1,)\n",
      "evaluate_accuracy,acc_sum.shape: (1,)\n",
      "evaluate_accuracy,acc_sum.shape: (1,)\n",
      "evaluate_accuracy,acc_sum.shape: (1,)\n",
      "evaluate_accuracy,acc_sum.shape: (1,)\n",
      "evaluate_accuracy,acc_sum.shape: (1,)\n",
      "evaluate_accuracy,acc_sum.shape: (1,)\n",
      "evaluate_accuracy,acc_sum.shape: (1,)\n",
      "evaluate_accuracy,acc_sum.shape: (1,)\n",
      "evaluate_accuracy,acc_sum.shape: (1,)\n",
      "evaluate_accuracy,acc_sum.shape: (1,)\n",
      "epoch 0 ==========\n",
      "train_acc :  0.0014833333333333332\n",
      "train_loss : 0.5662525605519613\n",
      "\n",
      " test_acc : \n",
      "[0.8517]\n",
      "<NDArray 1 @cpu(0)>\n",
      "now is trainning...epoch 1\n",
      "evaluate_accuracy,acc_sum.shape: (1,)\n",
      "evaluate_accuracy,acc_sum.shape: (1,)\n",
      "evaluate_accuracy,acc_sum.shape: (1,)\n",
      "evaluate_accuracy,acc_sum.shape: (1,)\n",
      "evaluate_accuracy,acc_sum.shape: (1,)\n",
      "evaluate_accuracy,acc_sum.shape: (1,)\n",
      "evaluate_accuracy,acc_sum.shape: (1,)\n",
      "evaluate_accuracy,acc_sum.shape: (1,)\n",
      "evaluate_accuracy,acc_sum.shape: (1,)\n",
      "evaluate_accuracy,acc_sum.shape: (1,)\n",
      "evaluate_accuracy,acc_sum.shape: (1,)\n",
      "evaluate_accuracy,acc_sum.shape: (1,)\n",
      "evaluate_accuracy,acc_sum.shape: (1,)\n",
      "evaluate_accuracy,acc_sum.shape: (1,)\n",
      "evaluate_accuracy,acc_sum.shape: (1,)\n",
      "evaluate_accuracy,acc_sum.shape: (1,)\n",
      "evaluate_accuracy,acc_sum.shape: (1,)\n",
      "evaluate_accuracy,acc_sum.shape: (1,)\n",
      "evaluate_accuracy,acc_sum.shape: (1,)\n",
      "evaluate_accuracy,acc_sum.shape: (1,)\n",
      "evaluate_accuracy,acc_sum.shape: (1,)\n",
      "evaluate_accuracy,acc_sum.shape: (1,)\n",
      "evaluate_accuracy,acc_sum.shape: (1,)\n",
      "evaluate_accuracy,acc_sum.shape: (1,)\n",
      "evaluate_accuracy,acc_sum.shape: (1,)\n",
      "evaluate_accuracy,acc_sum.shape: (1,)\n",
      "evaluate_accuracy,acc_sum.shape: (1,)\n",
      "evaluate_accuracy,acc_sum.shape: (1,)\n",
      "evaluate_accuracy,acc_sum.shape: (1,)\n",
      "evaluate_accuracy,acc_sum.shape: (1,)\n",
      "evaluate_accuracy,acc_sum.shape: (1,)\n",
      "evaluate_accuracy,acc_sum.shape: (1,)\n",
      "evaluate_accuracy,acc_sum.shape: (1,)\n",
      "evaluate_accuracy,acc_sum.shape: (1,)\n",
      "evaluate_accuracy,acc_sum.shape: (1,)\n",
      "evaluate_accuracy,acc_sum.shape: (1,)\n",
      "evaluate_accuracy,acc_sum.shape: (1,)\n",
      "evaluate_accuracy,acc_sum.shape: (1,)\n",
      "evaluate_accuracy,acc_sum.shape: (1,)\n",
      "evaluate_accuracy,acc_sum.shape: (1,)\n",
      "epoch 1 ==========\n",
      "train_acc :  0.0007666666666666667\n",
      "train_loss : 0.4353515969276428\n",
      "\n",
      " test_acc : \n",
      "[0.893]\n",
      "<NDArray 1 @cpu(0)>\n",
      "now is trainning...epoch 2\n",
      "evaluate_accuracy,acc_sum.shape: (1,)\n",
      "evaluate_accuracy,acc_sum.shape: (1,)\n",
      "evaluate_accuracy,acc_sum.shape: (1,)\n",
      "evaluate_accuracy,acc_sum.shape: (1,)\n",
      "evaluate_accuracy,acc_sum.shape: (1,)\n",
      "evaluate_accuracy,acc_sum.shape: (1,)\n",
      "evaluate_accuracy,acc_sum.shape: (1,)\n",
      "evaluate_accuracy,acc_sum.shape: (1,)\n",
      "evaluate_accuracy,acc_sum.shape: (1,)\n",
      "evaluate_accuracy,acc_sum.shape: (1,)\n",
      "evaluate_accuracy,acc_sum.shape: (1,)\n",
      "evaluate_accuracy,acc_sum.shape: (1,)\n",
      "evaluate_accuracy,acc_sum.shape: (1,)\n",
      "evaluate_accuracy,acc_sum.shape: (1,)\n",
      "evaluate_accuracy,acc_sum.shape: (1,)\n",
      "evaluate_accuracy,acc_sum.shape: (1,)\n",
      "evaluate_accuracy,acc_sum.shape: (1,)\n",
      "evaluate_accuracy,acc_sum.shape: (1,)\n",
      "evaluate_accuracy,acc_sum.shape: (1,)\n",
      "evaluate_accuracy,acc_sum.shape: (1,)\n",
      "evaluate_accuracy,acc_sum.shape: (1,)\n",
      "evaluate_accuracy,acc_sum.shape: (1,)\n",
      "evaluate_accuracy,acc_sum.shape: (1,)\n",
      "evaluate_accuracy,acc_sum.shape: (1,)\n",
      "evaluate_accuracy,acc_sum.shape: (1,)\n",
      "evaluate_accuracy,acc_sum.shape: (1,)\n",
      "evaluate_accuracy,acc_sum.shape: (1,)\n",
      "evaluate_accuracy,acc_sum.shape: (1,)\n",
      "evaluate_accuracy,acc_sum.shape: (1,)\n",
      "evaluate_accuracy,acc_sum.shape: (1,)\n",
      "evaluate_accuracy,acc_sum.shape: (1,)\n",
      "evaluate_accuracy,acc_sum.shape: (1,)\n",
      "evaluate_accuracy,acc_sum.shape: (1,)\n",
      "evaluate_accuracy,acc_sum.shape: (1,)\n",
      "evaluate_accuracy,acc_sum.shape: (1,)\n",
      "evaluate_accuracy,acc_sum.shape: (1,)\n",
      "evaluate_accuracy,acc_sum.shape: (1,)\n",
      "evaluate_accuracy,acc_sum.shape: (1,)\n",
      "evaluate_accuracy,acc_sum.shape: (1,)\n",
      "evaluate_accuracy,acc_sum.shape: (1,)\n",
      "epoch 2 ==========\n",
      "train_acc :  0.0005055555555555555\n",
      "train_loss : 0.3757884877098931\n",
      "\n",
      " test_acc : \n",
      "[0.8946]\n",
      "<NDArray 1 @cpu(0)>\n",
      "now is trainning...epoch 3\n"
     ]
    }
   ],
   "source": [
    "num_epochs,lr, = 5,0.05\n",
    "net.initialize(force_reinit=True,init = init.Xavier())\n",
    "trainer = gluon.Trainer(net.collect_params(),'sgd',{'learning_rate':lr})\n",
    "train(net,train_iter,test_iter,\n",
    "     batch_size,num_epochs,trainer,lr)"
   ]
  },
  {
   "cell_type": "code",
   "execution_count": null,
   "metadata": {},
   "outputs": [],
   "source": []
  }
 ],
 "metadata": {
  "kernelspec": {
   "display_name": "jn_mxnet",
   "language": "python",
   "name": "mxnet"
  },
  "language_info": {
   "codemirror_mode": {
    "name": "ipython",
    "version": 3
   },
   "file_extension": ".py",
   "mimetype": "text/x-python",
   "name": "python",
   "nbconvert_exporter": "python",
   "pygments_lexer": "ipython3",
   "version": "3.6.12"
  },
  "varInspector": {
   "cols": {
    "lenName": 16,
    "lenType": 16,
    "lenVar": 40
   },
   "kernels_config": {
    "python": {
     "delete_cmd_postfix": "",
     "delete_cmd_prefix": "del ",
     "library": "var_list.py",
     "varRefreshCmd": "print(var_dic_list())"
    },
    "r": {
     "delete_cmd_postfix": ") ",
     "delete_cmd_prefix": "rm(",
     "library": "var_list.r",
     "varRefreshCmd": "cat(var_dic_list()) "
    }
   },
   "types_to_exclude": [
    "module",
    "function",
    "builtin_function_or_method",
    "instance",
    "_Feature"
   ],
   "window_display": false
  }
 },
 "nbformat": 4,
 "nbformat_minor": 4
}
